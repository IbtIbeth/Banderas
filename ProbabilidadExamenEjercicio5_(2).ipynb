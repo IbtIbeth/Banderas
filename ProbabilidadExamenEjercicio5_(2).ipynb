{
  "nbformat": 4,
  "nbformat_minor": 0,
  "metadata": {
    "kernelspec": {
      "display_name": "Python 3",
      "language": "python",
      "name": "python3"
    },
    "language_info": {
      "codemirror_mode": {
        "name": "ipython",
        "version": 3
      },
      "file_extension": ".py",
      "mimetype": "text/x-python",
      "name": "python",
      "nbconvert_exporter": "python",
      "pygments_lexer": "ipython3",
      "version": "3.6.9"
    },
    "colab": {
      "provenance": [],
      "include_colab_link": true
    }
  },
  "cells": [
    {
      "cell_type": "markdown",
      "metadata": {
        "id": "view-in-github",
        "colab_type": "text"
      },
      "source": [
        "<a href=\"https://colab.research.google.com/github/IbtIbeth/Banderas/blob/main/ProbabilidadExamenEjercicio5_(2).ipynb\" target=\"_parent\"><img src=\"https://colab.research.google.com/assets/colab-badge.svg\" alt=\"Open In Colab\"/></a>"
      ]
    },
    {
      "cell_type": "markdown",
      "metadata": {
        "id": "iW0owkGHfpBr"
      },
      "source": [
        "5.**Sea n ∈ N y sea Ω = {0, 1, 2, ..., n−1} con probabilidades P = [P(0), P(1), . . . , P(n−\n",
        "1)]. Las variables aleatorias las representamos con listas X = [X(0), X(1), . . . , X(n −\n",
        "1)]. Escribe c ́odigo (m ́andalo aparte) para calcular:**"
      ]
    },
    {
      "cell_type": "code",
      "metadata": {
        "id": "SLCh2CcnfpBy",
        "outputId": "408c3bb5-479b-4858-ed1a-954ad209fe2d",
        "colab": {
          "base_uri": "https://localhost:8080/"
        }
      },
      "source": [
        "import math\n",
        "import random\n",
        "\n",
        "n=6 #Modifica n\n",
        "X=[random.randint(0,100) for i in range(n)]\n",
        "Y=[random.randint(0,100) for i in range(n)]\n",
        "P=[0.3,0.1,0.2,0.25,0.1,0.05] #Distinta probabilidad\n",
        "#P=[1/len(X) for i in range(n)] #Misma probabilidad\n",
        "\n",
        "print(\"X = \",X,\"\\n\\nY = \",Y)"
      ],
      "execution_count": 1,
      "outputs": [
        {
          "output_type": "stream",
          "name": "stdout",
          "text": [
            "X =  [87, 30, 79, 4, 64, 68] \n",
            "\n",
            "Y =  [66, 26, 65, 96, 22, 21]\n"
          ]
        }
      ]
    },
    {
      "cell_type": "markdown",
      "metadata": {
        "id": "Oo4ux6kmfpB0"
      },
      "source": [
        "### E(x)"
      ]
    },
    {
      "cell_type": "code",
      "metadata": {
        "id": "zGbm0Ly0fpB0",
        "outputId": "758e94ed-10a9-4d4c-c2ae-565bd5d0d3b0"
      },
      "source": [
        "def E(P,X):\n",
        "\n",
        "    E=0\n",
        "    for p,x in enumerate(X):\n",
        "        E+= P[p] * x\n",
        "    return(E)\n",
        "\n",
        "print(E(P,X),emoji.emojize(\":fire:\"))"
      ],
      "execution_count": null,
      "outputs": [
        {
          "output_type": "stream",
          "text": [
            "51.7 🔥\n"
          ],
          "name": "stdout"
        }
      ]
    },
    {
      "cell_type": "markdown",
      "metadata": {
        "id": "GDpLV1YafpB1"
      },
      "source": [
        "### Var(X)"
      ]
    },
    {
      "cell_type": "code",
      "metadata": {
        "id": "QMtYospGfpB1",
        "outputId": "98731fe7-4db6-4f2c-cff1-bdb74472ef03"
      },
      "source": [
        "def var(P,X):\n",
        "\n",
        "    x2=0\n",
        "    for p,i in enumerate(X):\n",
        "        x2+=P[p]*((i)**2)\n",
        "    e2=(E(P,X))**2\n",
        "    Var=x2-e2\n",
        "    return(Var)\n",
        "\n",
        "print(var(P,X),emoji.emojize(\":fire:\"))"
      ],
      "execution_count": null,
      "outputs": [
        {
          "output_type": "stream",
          "text": [
            "1036.2099999999996 🔥\n"
          ],
          "name": "stdout"
        }
      ]
    },
    {
      "cell_type": "markdown",
      "metadata": {
        "id": "1reCvMW-fpB2"
      },
      "source": [
        "### σ(X)"
      ]
    },
    {
      "cell_type": "code",
      "metadata": {
        "id": "eml3nasXfpB2",
        "outputId": "6451aac6-8973-43b1-d30f-ff15d41eee03"
      },
      "source": [
        "def Desv(P,X):\n",
        "\n",
        "    return(math.sqrt(var(P,X)))\n",
        "\n",
        "print(Desv(P,X),emoji.emojize(\":fire:\"))"
      ],
      "execution_count": null,
      "outputs": [
        {
          "output_type": "stream",
          "text": [
            "32.19021590483667 🔥\n"
          ],
          "name": "stdout"
        }
      ]
    },
    {
      "cell_type": "markdown",
      "metadata": {
        "id": "2elP1EXpfpB2"
      },
      "source": [
        "### cov(X, Y )"
      ]
    },
    {
      "cell_type": "code",
      "metadata": {
        "id": "4exHvyESfpB3",
        "outputId": "e6adfd15-c17a-4a8e-e231-680a502a9bc7"
      },
      "source": [
        "def cov(X,Y,P):\n",
        "\n",
        "    xy = [a*b for a,b in zip(X, Y)]\n",
        "    return(E(P,xy)-(E(P,X)*E(P,Y)))\n",
        "\n",
        "print(cov(X,Y,P),emoji.emojize(\":fire:\"))\n"
      ],
      "execution_count": null,
      "outputs": [
        {
          "output_type": "stream",
          "text": [
            "-115.13500000000113 🔥\n"
          ],
          "name": "stdout"
        }
      ]
    },
    {
      "cell_type": "markdown",
      "metadata": {
        "id": "xtQJdusGfpB3"
      },
      "source": [
        "### corr(X, Y )"
      ]
    },
    {
      "cell_type": "code",
      "metadata": {
        "id": "ePOjnF7xfpB3",
        "outputId": "8a7fdc6e-ddaf-4b0e-a7fc-5793db8fbe46"
      },
      "source": [
        "def corr(X,Y,P):\n",
        "\n",
        "    return(cov(X,Y,P)/(Desv(P,X)*Desv(P,Y)))\n",
        "\n",
        "print(corr(X,Y,P),emoji.emojize(\":fire:\"))"
      ],
      "execution_count": null,
      "outputs": [
        {
          "output_type": "stream",
          "text": [
            "-0.13307005287570117 🔥\n"
          ],
          "name": "stdout"
        }
      ]
    }
  ]
}